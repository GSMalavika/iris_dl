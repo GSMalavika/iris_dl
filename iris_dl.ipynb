{
  "nbformat": 4,
  "nbformat_minor": 0,
  "metadata": {
    "colab": {
      "provenance": []
    },
    "kernelspec": {
      "name": "python3",
      "display_name": "Python 3"
    },
    "language_info": {
      "name": "python"
    }
  },
  "cells": [
    {
      "cell_type": "code",
      "execution_count": 79,
      "metadata": {
        "id": "JYvvL17zLzXa"
      },
      "outputs": [],
      "source": []
    },
    {
      "cell_type": "markdown",
      "source": [
        "import the necessary modules needed."
      ],
      "metadata": {
        "id": "qz78omgsL0An"
      }
    },
    {
      "cell_type": "code",
      "source": [
        "import tensorflow as tf\n",
        "import pandas as pd\n",
        "import numpy as np\n",
        "from tensorflow.keras import layers,models\n",
        "from tensorflow.keras.utils import to_categorical\n",
        "from sklearn.preprocessing import LabelEncoder\n"
      ],
      "metadata": {
        "id": "C2Xdkyi1L4V9"
      },
      "execution_count": 80,
      "outputs": []
    },
    {
      "cell_type": "markdown",
      "source": [
        "Read the test file using pandas read_csv() function"
      ],
      "metadata": {
        "id": "eNm6l7nQZl2k"
      }
    },
    {
      "cell_type": "code",
      "source": [
        "df=pd.read_csv("iris.csv")\n",
        "print(df.head())"
      ],
      "metadata": {
        "colab": {
          "base_uri": "https://localhost:8080/"
        },
        "id": "erTVqMxpM9po",
        "outputId": "e94334fe-a2e2-4803-b0ff-163ebab811dd"
      },
      "execution_count": 81,
      "outputs": [
        {
          "output_type": "stream",
          "name": "stdout",
          "text": [
            "   sepal_length  sepal_width  petal_length  petal_width species\n",
            "0           5.1          3.5           1.4          0.2  setosa\n",
            "1           4.9          3.0           1.4          0.2  setosa\n",
            "2           4.7          3.2           1.3          0.2  setosa\n",
            "3           4.6          3.1           1.5          0.2  setosa\n",
            "4           5.0          3.6           1.4          0.2  setosa\n"
          ]
        }
      ]
    },
    {
      "cell_type": "markdown",
      "source": [
        "Separating the training dataframe and target column using pandas.iloc[] split method and accessing only the values"
      ],
      "metadata": {
        "id": "bgfFOEiQZv3F"
      }
    },
    {
      "cell_type": "code",
      "source": [
        "X=df.iloc[:,0:4].values\n",
        "y=df.iloc[:,4].values"
      ],
      "metadata": {
        "id": "JJTi4JNSOsrV"
      },
      "execution_count": 82,
      "outputs": []
    },
    {
      "cell_type": "markdown",
      "source": [
        "input vectors to the model"
      ],
      "metadata": {
        "id": "79NOTuv2aOVO"
      }
    },
    {
      "cell_type": "code",
      "source": [
        "print(X)"
      ],
      "metadata": {
        "colab": {
          "base_uri": "https://localhost:8080/"
        },
        "id": "HLZxES7HaKyA",
        "outputId": "0fb9a34e-05c6-44be-b02e-274c131147df"
      },
      "execution_count": 83,
      "outputs": [
        {
          "output_type": "stream",
          "name": "stdout",
          "text": [
            "[[5.1 3.5 1.4 0.2]\n",
            " [4.9 3.  1.4 0.2]\n",
            " [4.7 3.2 1.3 0.2]\n",
            " [4.6 3.1 1.5 0.2]\n",
            " [5.  3.6 1.4 0.2]\n",
            " [5.4 3.9 1.7 0.4]\n",
            " [4.6 3.4 1.4 0.3]\n",
            " [5.  3.4 1.5 0.2]\n",
            " [4.4 2.9 1.4 0.2]\n",
            " [4.9 3.1 1.5 0.1]\n",
            " [5.4 3.7 1.5 0.2]\n",
            " [4.8 3.4 1.6 0.2]\n",
            " [4.8 3.  1.4 0.1]\n",
            " [4.3 3.  1.1 0.1]\n",
            " [5.8 4.  1.2 0.2]\n",
            " [5.7 4.4 1.5 0.4]\n",
            " [5.4 3.9 1.3 0.4]\n",
            " [5.1 3.5 1.4 0.3]\n",
            " [5.7 3.8 1.7 0.3]\n",
            " [5.1 3.8 1.5 0.3]\n",
            " [5.4 3.4 1.7 0.2]\n",
            " [5.1 3.7 1.5 0.4]\n",
            " [4.6 3.6 1.  0.2]\n",
            " [5.1 3.3 1.7 0.5]\n",
            " [4.8 3.4 1.9 0.2]\n",
            " [5.  3.  1.6 0.2]\n",
            " [5.  3.4 1.6 0.4]\n",
            " [5.2 3.5 1.5 0.2]\n",
            " [5.2 3.4 1.4 0.2]\n",
            " [4.7 3.2 1.6 0.2]\n",
            " [4.8 3.1 1.6 0.2]\n",
            " [5.4 3.4 1.5 0.4]\n",
            " [5.2 4.1 1.5 0.1]\n",
            " [5.5 4.2 1.4 0.2]\n",
            " [4.9 3.1 1.5 0.2]\n",
            " [5.  3.2 1.2 0.2]\n",
            " [5.5 3.5 1.3 0.2]\n",
            " [4.9 3.6 1.4 0.1]\n",
            " [4.4 3.  1.3 0.2]\n",
            " [5.1 3.4 1.5 0.2]\n",
            " [5.  3.5 1.3 0.3]\n",
            " [4.5 2.3 1.3 0.3]\n",
            " [4.4 3.2 1.3 0.2]\n",
            " [5.  3.5 1.6 0.6]\n",
            " [5.1 3.8 1.9 0.4]\n",
            " [4.8 3.  1.4 0.3]\n",
            " [5.1 3.8 1.6 0.2]\n",
            " [4.6 3.2 1.4 0.2]\n",
            " [5.3 3.7 1.5 0.2]\n",
            " [5.  3.3 1.4 0.2]\n",
            " [7.  3.2 4.7 1.4]\n",
            " [6.4 3.2 4.5 1.5]\n",
            " [6.9 3.1 4.9 1.5]\n",
            " [5.5 2.3 4.  1.3]\n",
            " [6.5 2.8 4.6 1.5]\n",
            " [5.7 2.8 4.5 1.3]\n",
            " [6.3 3.3 4.7 1.6]\n",
            " [4.9 2.4 3.3 1. ]\n",
            " [6.6 2.9 4.6 1.3]\n",
            " [5.2 2.7 3.9 1.4]\n",
            " [5.  2.  3.5 1. ]\n",
            " [5.9 3.  4.2 1.5]\n",
            " [6.  2.2 4.  1. ]\n",
            " [6.1 2.9 4.7 1.4]\n",
            " [5.6 2.9 3.6 1.3]\n",
            " [6.7 3.1 4.4 1.4]\n",
            " [5.6 3.  4.5 1.5]\n",
            " [5.8 2.7 4.1 1. ]\n",
            " [6.2 2.2 4.5 1.5]\n",
            " [5.6 2.5 3.9 1.1]\n",
            " [5.9 3.2 4.8 1.8]\n",
            " [6.1 2.8 4.  1.3]\n",
            " [6.3 2.5 4.9 1.5]\n",
            " [6.1 2.8 4.7 1.2]\n",
            " [6.4 2.9 4.3 1.3]\n",
            " [6.6 3.  4.4 1.4]\n",
            " [6.8 2.8 4.8 1.4]\n",
            " [6.7 3.  5.  1.7]\n",
            " [6.  2.9 4.5 1.5]\n",
            " [5.7 2.6 3.5 1. ]\n",
            " [5.5 2.4 3.8 1.1]\n",
            " [5.5 2.4 3.7 1. ]\n",
            " [5.8 2.7 3.9 1.2]\n",
            " [6.  2.7 5.1 1.6]\n",
            " [5.4 3.  4.5 1.5]\n",
            " [6.  3.4 4.5 1.6]\n",
            " [6.7 3.1 4.7 1.5]\n",
            " [6.3 2.3 4.4 1.3]\n",
            " [5.6 3.  4.1 1.3]\n",
            " [5.5 2.5 4.  1.3]\n",
            " [5.5 2.6 4.4 1.2]\n",
            " [6.1 3.  4.6 1.4]\n",
            " [5.8 2.6 4.  1.2]\n",
            " [5.  2.3 3.3 1. ]\n",
            " [5.6 2.7 4.2 1.3]\n",
            " [5.7 3.  4.2 1.2]\n",
            " [5.7 2.9 4.2 1.3]\n",
            " [6.2 2.9 4.3 1.3]\n",
            " [5.1 2.5 3.  1.1]\n",
            " [5.7 2.8 4.1 1.3]\n",
            " [6.3 3.3 6.  2.5]\n",
            " [5.8 2.7 5.1 1.9]\n",
            " [7.1 3.  5.9 2.1]\n",
            " [6.3 2.9 5.6 1.8]\n",
            " [6.5 3.  5.8 2.2]\n",
            " [7.6 3.  6.6 2.1]\n",
            " [4.9 2.5 4.5 1.7]\n",
            " [7.3 2.9 6.3 1.8]\n",
            " [6.7 2.5 5.8 1.8]\n",
            " [7.2 3.6 6.1 2.5]\n",
            " [6.5 3.2 5.1 2. ]\n",
            " [6.4 2.7 5.3 1.9]\n",
            " [6.8 3.  5.5 2.1]\n",
            " [5.7 2.5 5.  2. ]\n",
            " [5.8 2.8 5.1 2.4]\n",
            " [6.4 3.2 5.3 2.3]\n",
            " [6.5 3.  5.5 1.8]\n",
            " [7.7 3.8 6.7 2.2]\n",
            " [7.7 2.6 6.9 2.3]\n",
            " [6.  2.2 5.  1.5]\n",
            " [6.9 3.2 5.7 2.3]\n",
            " [5.6 2.8 4.9 2. ]\n",
            " [7.7 2.8 6.7 2. ]\n",
            " [6.3 2.7 4.9 1.8]\n",
            " [6.7 3.3 5.7 2.1]\n",
            " [7.2 3.2 6.  1.8]\n",
            " [6.2 2.8 4.8 1.8]\n",
            " [6.1 3.  4.9 1.8]\n",
            " [6.4 2.8 5.6 2.1]\n",
            " [7.2 3.  5.8 1.6]\n",
            " [7.4 2.8 6.1 1.9]\n",
            " [7.9 3.8 6.4 2. ]\n",
            " [6.4 2.8 5.6 2.2]\n",
            " [6.3 2.8 5.1 1.5]\n",
            " [6.1 2.6 5.6 1.4]\n",
            " [7.7 3.  6.1 2.3]\n",
            " [6.3 3.4 5.6 2.4]\n",
            " [6.4 3.1 5.5 1.8]\n",
            " [6.  3.  4.8 1.8]\n",
            " [6.9 3.1 5.4 2.1]\n",
            " [6.7 3.1 5.6 2.4]\n",
            " [6.9 3.1 5.1 2.3]\n",
            " [5.8 2.7 5.1 1.9]\n",
            " [6.8 3.2 5.9 2.3]\n",
            " [6.7 3.3 5.7 2.5]\n",
            " [6.7 3.  5.2 2.3]\n",
            " [6.3 2.5 5.  1.9]\n",
            " [6.5 3.  5.2 2. ]\n",
            " [6.2 3.4 5.4 2.3]\n",
            " [5.9 3.  5.1 1.8]]\n"
          ]
        }
      ]
    },
    {
      "cell_type": "markdown",
      "source": [
        "target column"
      ],
      "metadata": {
        "id": "NLXPjqhwalb3"
      }
    },
    {
      "cell_type": "code",
      "source": [
        "print((y))"
      ],
      "metadata": {
        "colab": {
          "base_uri": "https://localhost:8080/"
        },
        "id": "gShuesGmaw2-",
        "outputId": "54323f40-cece-4ae2-c2a5-a884b8d5662e"
      },
      "execution_count": 84,
      "outputs": [
        {
          "output_type": "stream",
          "name": "stdout",
          "text": [
            "['setosa' 'setosa' 'setosa' 'setosa' 'setosa' 'setosa' 'setosa' 'setosa'\n",
            " 'setosa' 'setosa' 'setosa' 'setosa' 'setosa' 'setosa' 'setosa' 'setosa'\n",
            " 'setosa' 'setosa' 'setosa' 'setosa' 'setosa' 'setosa' 'setosa' 'setosa'\n",
            " 'setosa' 'setosa' 'setosa' 'setosa' 'setosa' 'setosa' 'setosa' 'setosa'\n",
            " 'setosa' 'setosa' 'setosa' 'setosa' 'setosa' 'setosa' 'setosa' 'setosa'\n",
            " 'setosa' 'setosa' 'setosa' 'setosa' 'setosa' 'setosa' 'setosa' 'setosa'\n",
            " 'setosa' 'setosa' 'versicolor' 'versicolor' 'versicolor' 'versicolor'\n",
            " 'versicolor' 'versicolor' 'versicolor' 'versicolor' 'versicolor'\n",
            " 'versicolor' 'versicolor' 'versicolor' 'versicolor' 'versicolor'\n",
            " 'versicolor' 'versicolor' 'versicolor' 'versicolor' 'versicolor'\n",
            " 'versicolor' 'versicolor' 'versicolor' 'versicolor' 'versicolor'\n",
            " 'versicolor' 'versicolor' 'versicolor' 'versicolor' 'versicolor'\n",
            " 'versicolor' 'versicolor' 'versicolor' 'versicolor' 'versicolor'\n",
            " 'versicolor' 'versicolor' 'versicolor' 'versicolor' 'versicolor'\n",
            " 'versicolor' 'versicolor' 'versicolor' 'versicolor' 'versicolor'\n",
            " 'versicolor' 'versicolor' 'versicolor' 'versicolor' 'versicolor'\n",
            " 'versicolor' 'virginica' 'virginica' 'virginica' 'virginica' 'virginica'\n",
            " 'virginica' 'virginica' 'virginica' 'virginica' 'virginica' 'virginica'\n",
            " 'virginica' 'virginica' 'virginica' 'virginica' 'virginica' 'virginica'\n",
            " 'virginica' 'virginica' 'virginica' 'virginica' 'virginica' 'virginica'\n",
            " 'virginica' 'virginica' 'virginica' 'virginica' 'virginica' 'virginica'\n",
            " 'virginica' 'virginica' 'virginica' 'virginica' 'virginica' 'virginica'\n",
            " 'virginica' 'virginica' 'virginica' 'virginica' 'virginica' 'virginica'\n",
            " 'virginica' 'virginica' 'virginica' 'virginica' 'virginica' 'virginica'\n",
            " 'virginica' 'virginica' 'virginica']\n"
          ]
        }
      ]
    },
    {
      "cell_type": "code",
      "source": [
        "print(\"Type of X: \",type(X))\n",
        "print(\"Type of y: \",type(y))"
      ],
      "metadata": {
        "colab": {
          "base_uri": "https://localhost:8080/"
        },
        "id": "K4CBL6mRO3EL",
        "outputId": "484f37a0-f3a4-4503-82a8-4daee9b4b5b3"
      },
      "execution_count": 85,
      "outputs": [
        {
          "output_type": "stream",
          "name": "stdout",
          "text": [
            "Type of X:  <class 'numpy.ndarray'>\n",
            "Type of y:  <class 'numpy.ndarray'>\n"
          ]
        }
      ]
    },
    {
      "cell_type": "code",
      "source": [
        "print(X.shape)\n",
        "print(y.shape)"
      ],
      "metadata": {
        "colab": {
          "base_uri": "https://localhost:8080/"
        },
        "id": "lva4y9fYQLkM",
        "outputId": "0c3e286a-c9a6-4a72-e68f-9ed8b85ccfb7"
      },
      "execution_count": 86,
      "outputs": [
        {
          "output_type": "stream",
          "name": "stdout",
          "text": [
            "(150, 4)\n",
            "(150,)\n"
          ]
        }
      ]
    },
    {
      "cell_type": "markdown",
      "source": [
        "Encoding the target value to 0,1,2 using LabelEncoder"
      ],
      "metadata": {
        "id": "APWL2W-RbRmY"
      }
    },
    {
      "cell_type": "code",
      "source": [
        "le=LabelEncoder()\n",
        "y=le.fit_transform(y)\n",
        "print(y)"
      ],
      "metadata": {
        "colab": {
          "base_uri": "https://localhost:8080/"
        },
        "id": "AzK4DOc8PPe0",
        "outputId": "2fac6f64-bda5-4c0e-d799-a7f810953b01"
      },
      "execution_count": 87,
      "outputs": [
        {
          "output_type": "stream",
          "name": "stdout",
          "text": [
            "[0 0 0 0 0 0 0 0 0 0 0 0 0 0 0 0 0 0 0 0 0 0 0 0 0 0 0 0 0 0 0 0 0 0 0 0 0\n",
            " 0 0 0 0 0 0 0 0 0 0 0 0 0 1 1 1 1 1 1 1 1 1 1 1 1 1 1 1 1 1 1 1 1 1 1 1 1\n",
            " 1 1 1 1 1 1 1 1 1 1 1 1 1 1 1 1 1 1 1 1 1 1 1 1 1 1 2 2 2 2 2 2 2 2 2 2 2\n",
            " 2 2 2 2 2 2 2 2 2 2 2 2 2 2 2 2 2 2 2 2 2 2 2 2 2 2 2 2 2 2 2 2 2 2 2 2 2\n",
            " 2 2]\n"
          ]
        }
      ]
    },
    {
      "cell_type": "markdown",
      "source": [
        "Converting y(target) to one hot encoding variables"
      ],
      "metadata": {
        "id": "0sTJjrFbb1eS"
      }
    },
    {
      "cell_type": "code",
      "source": [
        "y=pd.get_dummies(y).values\n",
        "print(y)\n",
        "print(type(y))\n"
      ],
      "metadata": {
        "id": "5uTiAFqNPvmc",
        "colab": {
          "base_uri": "https://localhost:8080/"
        },
        "outputId": "4f83c997-2103-4e62-9085-670655ae0c9e"
      },
      "execution_count": 88,
      "outputs": [
        {
          "output_type": "stream",
          "name": "stdout",
          "text": [
            "[[ True False False]\n",
            " [ True False False]\n",
            " [ True False False]\n",
            " [ True False False]\n",
            " [ True False False]\n",
            " [ True False False]\n",
            " [ True False False]\n",
            " [ True False False]\n",
            " [ True False False]\n",
            " [ True False False]\n",
            " [ True False False]\n",
            " [ True False False]\n",
            " [ True False False]\n",
            " [ True False False]\n",
            " [ True False False]\n",
            " [ True False False]\n",
            " [ True False False]\n",
            " [ True False False]\n",
            " [ True False False]\n",
            " [ True False False]\n",
            " [ True False False]\n",
            " [ True False False]\n",
            " [ True False False]\n",
            " [ True False False]\n",
            " [ True False False]\n",
            " [ True False False]\n",
            " [ True False False]\n",
            " [ True False False]\n",
            " [ True False False]\n",
            " [ True False False]\n",
            " [ True False False]\n",
            " [ True False False]\n",
            " [ True False False]\n",
            " [ True False False]\n",
            " [ True False False]\n",
            " [ True False False]\n",
            " [ True False False]\n",
            " [ True False False]\n",
            " [ True False False]\n",
            " [ True False False]\n",
            " [ True False False]\n",
            " [ True False False]\n",
            " [ True False False]\n",
            " [ True False False]\n",
            " [ True False False]\n",
            " [ True False False]\n",
            " [ True False False]\n",
            " [ True False False]\n",
            " [ True False False]\n",
            " [ True False False]\n",
            " [False  True False]\n",
            " [False  True False]\n",
            " [False  True False]\n",
            " [False  True False]\n",
            " [False  True False]\n",
            " [False  True False]\n",
            " [False  True False]\n",
            " [False  True False]\n",
            " [False  True False]\n",
            " [False  True False]\n",
            " [False  True False]\n",
            " [False  True False]\n",
            " [False  True False]\n",
            " [False  True False]\n",
            " [False  True False]\n",
            " [False  True False]\n",
            " [False  True False]\n",
            " [False  True False]\n",
            " [False  True False]\n",
            " [False  True False]\n",
            " [False  True False]\n",
            " [False  True False]\n",
            " [False  True False]\n",
            " [False  True False]\n",
            " [False  True False]\n",
            " [False  True False]\n",
            " [False  True False]\n",
            " [False  True False]\n",
            " [False  True False]\n",
            " [False  True False]\n",
            " [False  True False]\n",
            " [False  True False]\n",
            " [False  True False]\n",
            " [False  True False]\n",
            " [False  True False]\n",
            " [False  True False]\n",
            " [False  True False]\n",
            " [False  True False]\n",
            " [False  True False]\n",
            " [False  True False]\n",
            " [False  True False]\n",
            " [False  True False]\n",
            " [False  True False]\n",
            " [False  True False]\n",
            " [False  True False]\n",
            " [False  True False]\n",
            " [False  True False]\n",
            " [False  True False]\n",
            " [False  True False]\n",
            " [False  True False]\n",
            " [False False  True]\n",
            " [False False  True]\n",
            " [False False  True]\n",
            " [False False  True]\n",
            " [False False  True]\n",
            " [False False  True]\n",
            " [False False  True]\n",
            " [False False  True]\n",
            " [False False  True]\n",
            " [False False  True]\n",
            " [False False  True]\n",
            " [False False  True]\n",
            " [False False  True]\n",
            " [False False  True]\n",
            " [False False  True]\n",
            " [False False  True]\n",
            " [False False  True]\n",
            " [False False  True]\n",
            " [False False  True]\n",
            " [False False  True]\n",
            " [False False  True]\n",
            " [False False  True]\n",
            " [False False  True]\n",
            " [False False  True]\n",
            " [False False  True]\n",
            " [False False  True]\n",
            " [False False  True]\n",
            " [False False  True]\n",
            " [False False  True]\n",
            " [False False  True]\n",
            " [False False  True]\n",
            " [False False  True]\n",
            " [False False  True]\n",
            " [False False  True]\n",
            " [False False  True]\n",
            " [False False  True]\n",
            " [False False  True]\n",
            " [False False  True]\n",
            " [False False  True]\n",
            " [False False  True]\n",
            " [False False  True]\n",
            " [False False  True]\n",
            " [False False  True]\n",
            " [False False  True]\n",
            " [False False  True]\n",
            " [False False  True]\n",
            " [False False  True]\n",
            " [False False  True]\n",
            " [False False  True]\n",
            " [False False  True]]\n",
            "<class 'numpy.ndarray'>\n"
          ]
        }
      ]
    },
    {
      "cell_type": "markdown",
      "source": [
        "Defining the model with 2 hidden layers and one output layer with each 10 and 3 nodes respectively"
      ],
      "metadata": {
        "id": "S8l5jUkNeDJ-"
      }
    },
    {
      "cell_type": "code",
      "source": [
        "model=tf.keras.Sequential([tf.keras.layers.Dense(10,activation='relu'),\n",
        "                           tf.keras.layers.Dense(10,activation='relu'),\n",
        "                           tf.keras.layers.Dense(3,activation='softmax')])\n"
      ],
      "metadata": {
        "id": "L2uEmgIRUqZg"
      },
      "execution_count": 89,
      "outputs": []
    },
    {
      "cell_type": "code",
      "source": [
        "model.compile(optimizer='rmsprop',loss='categorical_crossentropy',metrics=['accuracy'])"
      ],
      "metadata": {
        "id": "UsL1ohrZVdMi"
      },
      "execution_count": 90,
      "outputs": []
    },
    {
      "cell_type": "code",
      "source": [
        "from sklearn.model_selection import train_test_split\n",
        "X_train,X_test,y_train,y_test=train_test_split(X,y,test_size=0.2)"
      ],
      "metadata": {
        "id": "vPIcZMFrV6-b"
      },
      "execution_count": 91,
      "outputs": []
    },
    {
      "cell_type": "code",
      "source": [
        "model.fit(X_train,y_train,batch_size=5,epochs=10)\n",
        "loss,accuracy=model.evaluate(X_test,y_test,verbose=0)"
      ],
      "metadata": {
        "colab": {
          "base_uri": "https://localhost:8080/"
        },
        "id": "WVOqRVN3WYiD",
        "outputId": "7e3c5e6a-07e3-45fd-a04d-401b7c6d78d3"
      },
      "execution_count": 92,
      "outputs": [
        {
          "output_type": "stream",
          "name": "stdout",
          "text": [
            "Epoch 1/10\n",
            "24/24 [==============================] - 1s 3ms/step - loss: 1.5296 - accuracy: 0.3500\n",
            "Epoch 2/10\n",
            "24/24 [==============================] - 0s 2ms/step - loss: 1.2431 - accuracy: 0.3500\n",
            "Epoch 3/10\n",
            "24/24 [==============================] - 0s 3ms/step - loss: 1.1086 - accuracy: 0.3500\n",
            "Epoch 4/10\n",
            "24/24 [==============================] - 0s 3ms/step - loss: 0.9971 - accuracy: 0.3500\n",
            "Epoch 5/10\n",
            "24/24 [==============================] - 0s 4ms/step - loss: 0.9214 - accuracy: 0.4667\n",
            "Epoch 6/10\n",
            "24/24 [==============================] - 0s 4ms/step - loss: 0.8791 - accuracy: 0.5583\n",
            "Epoch 7/10\n",
            "24/24 [==============================] - 0s 3ms/step - loss: 0.8259 - accuracy: 0.5583\n",
            "Epoch 8/10\n",
            "24/24 [==============================] - 0s 3ms/step - loss: 0.7743 - accuracy: 0.6167\n",
            "Epoch 9/10\n",
            "24/24 [==============================] - 0s 3ms/step - loss: 0.7400 - accuracy: 0.7667\n",
            "Epoch 10/10\n",
            "24/24 [==============================] - 0s 3ms/step - loss: 0.7041 - accuracy: 0.8333\n"
          ]
        }
      ]
    },
    {
      "cell_type": "code",
      "source": [
        "print(\"Test Loss: \",loss)\n",
        "print(\"Test Accuracy: \",accuracy)"
      ],
      "metadata": {
        "colab": {
          "base_uri": "https://localhost:8080/"
        },
        "id": "OXM9v5ndYYuz",
        "outputId": "b4052da8-a5f2-4666-9976-574317e6de1d"
      },
      "execution_count": 93,
      "outputs": [
        {
          "output_type": "stream",
          "name": "stdout",
          "text": [
            "Test Loss:  0.7285286784172058\n",
            "Test Accuracy:  0.800000011920929\n"
          ]
        }
      ]
    },
    {
      "cell_type": "code",
      "source": [
        "print(model.summary())"
      ],
      "metadata": {
        "id": "nQRhw6GZYpDp",
        "outputId": "7e66b09b-02e2-4834-85b4-c93b314fb23e",
        "colab": {
          "base_uri": "https://localhost:8080/"
        }
      },
      "execution_count": 94,
      "outputs": [
        {
          "output_type": "stream",
          "name": "stdout",
          "text": [
            "Model: \"sequential_3\"\n",
            "_________________________________________________________________\n",
            " Layer (type)                Output Shape              Param #   \n",
            "=================================================================\n",
            " dense_9 (Dense)             (None, 10)                50        \n",
            "                                                                 \n",
            " dense_10 (Dense)            (None, 10)                110       \n",
            "                                                                 \n",
            " dense_11 (Dense)            (None, 3)                 33        \n",
            "                                                                 \n",
            "=================================================================\n",
            "Total params: 193 (772.00 Byte)\n",
            "Trainable params: 193 (772.00 Byte)\n",
            "Non-trainable params: 0 (0.00 Byte)\n",
            "_________________________________________________________________\n",
            "None\n"
          ]
        }
      ]
    },
    {
      "cell_type": "code",
      "source": [
        "p=model.predict(X_test)"
      ],
      "metadata": {
        "id": "loaKVUT9ttSn",
        "colab": {
          "base_uri": "https://localhost:8080/"
        },
        "outputId": "04d839ab-9832-424b-d68a-1472bd673d41"
      },
      "execution_count": 95,
      "outputs": [
        {
          "output_type": "stream",
          "name": "stdout",
          "text": [
            "1/1 [==============================] - 0s 65ms/step\n"
          ]
        }
      ]
    },
    {
      "cell_type": "code",
      "source": [
        "actual=np.argmax(y_test,1)\n",
        "p=np.argmax(p,1)\n",
        "print(\"Actual target: \",actual)\n",
        "print(\"Predicted output: \",p)"
      ],
      "metadata": {
        "colab": {
          "base_uri": "https://localhost:8080/"
        },
        "id": "R7fu1KwPc73Y",
        "outputId": "7727a89e-545f-42f0-fe55-60154139fc00"
      },
      "execution_count": 96,
      "outputs": [
        {
          "output_type": "stream",
          "name": "stdout",
          "text": [
            "Actual target:  [2 1 1 2 1 2 0 0 0 2 0 0 0 2 1 0 2 2 0 1 0 0 0 1 1 2 1 0 0 1]\n",
            "Predicted output:  [2 1 2 2 1 2 0 0 0 2 0 0 0 2 1 0 2 2 0 2 1 0 0 1 2 2 2 0 0 2]\n"
          ]
        }
      ]
    }
  ]
}
